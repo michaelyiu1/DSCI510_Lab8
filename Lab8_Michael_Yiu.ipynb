{
 "cells": [
  {
   "cell_type": "markdown",
   "id": "add2e43c",
   "metadata": {},
   "source": [
    "# Lab 8\n",
    "### DSCI 510 / USC / Hermjakob section / Spring 2025\n",
    "---\n",
    "Hello and welcome to Lab 8.\n",
    "\n",
    "__Guidelines:__\n",
    "\n",
    "- Please write and submit the two programs below by the deadline: Monday, March 31, at 6:00pm Pacific time\n",
    "\n",
    "- You must complete the assignments individually. If you have trouble completing the assignment, please let the  teaching assistant (TA) know, during the lab or office hours. He will help and guide you, but he will not write code for you and no one else should :) !!!  \n",
    "\n",
    "- You have to fill in the code in this notebook and upload it back to Brightspace for submission. Please remember to rename your file as \"Lab8_[YOUR FIRSTNAME]_[YOUR LASTNAME].ipynb\" (e.g. Lab8_George_Washington.ipynb).\n",
    "\n",
    "- You may look up resources online like python docs and stackoverflow. You may look up topics, but not the questions themselves."
   ]
  },
  {
   "cell_type": "markdown",
   "id": "8b938d6f",
   "metadata": {},
   "source": [
    "# Q1 [10 points] \n",
    "---\n",
    "### API: Gender prediction\n",
    "\n",
    "Write a function _gender_based_on_name()_ that will predict whether a given name is _male_ or _female_.<br>\n",
    "Use an API.<br>\n",
    "See example presented in class on March 26, 2025.<br>\n",
    "Call ```strip()``` over the name for added robustness.  "
   ]
  },
  {
   "cell_type": "code",
   "execution_count": null,
   "id": "812f7d0e",
   "metadata": {},
   "outputs": [],
   "source": [
    "def gender_based_on_name(name: str) -> str | None:\n",
    "    # returns \"male\" or \"female\" or None\n",
    "    pass  # replace this line with your code"
   ]
  },
  {
   "cell_type": "code",
   "execution_count": null,
   "id": "ca4653f8",
   "metadata": {},
   "outputs": [],
   "source": [
    "# open test\n",
    "\n",
    "print(gender_based_on_name('Mary'))         # should print 'female'\n",
    "print(gender_based_on_name('John'))         # should print 'male'\n",
    "print(gender_based_on_name('NoSuchName'))   # should print None"
   ]
  },
  {
   "cell_type": "markdown",
   "id": "719163e2",
   "metadata": {},
   "source": [
    "# Q2 [10 points]\n",
    "\n",
    "### API: Airport weather\n",
    "\n",
    "For this question, we will be using requests library to request\n",
    "```api.weather.gov``` to get an airport's weather information. Based on that, you have to determine whether or not the weather at the airport is cloudy or not.  \n",
    "\n",
    "*How to decide whether the airport is cloudy or not?*  \n",
    "We check if the ```shortForecast``` field has the word ___cloudy___ for the next time period. Forecasts such as _mostly cloudy_ or _partly cloudy_ count as cloudy. It will be a two-step process to obtain the value for ```sortForecast```: the first API request will include a URL that, when called, contains the ```shortForecast``` that we are after.\n",
    "\n",
    "Input: String(Airport name)  \n",
    "Output: Boolean(True if cloudy, False otherwise)  \n",
    "\n",
    "FAQs:  \n",
    "Q. What link should I use for the requests.get() function?  \n",
    "A. Link would look something like this -> https://api.weather.gov/points/ ```<Latitude value>,<Longitude value>```   \n",
    "An Example would be: https://api.weather.gov/points/39.7456,-97.0892\n",
    "\n",
    "Q. I got something after requesting, but, I am not sure, what it is.  \n",
    "A. You received a response object. You can call .json() to it and see what is there. (See ```json.dumps()```)  \n",
    "\n",
    "Q. How do I get information from this json?  \n",
    "A. For getting info from that, as taught in the class, you can simply index them by using keys that you want after assessing the json.  \n",
    "\n",
    "Q. Okay, I indexed the json using the keys and I get some list out of it. What is that?  \n",
    "A. That list is the forecast for the next hours. You'll need this information for making the decision that is required in the question. Also, what you are getting in the list is a dict. **Make sure you understand what you are dealing with at each point.**  \n",
    "\n",
    "Q. Should I use the plain *forecast* or *forecastHourly*?\n",
    "A. Please use the plain *forecast*."
   ]
  },
  {
   "cell_type": "code",
   "execution_count": null,
   "id": "06da00a9",
   "metadata": {},
   "outputs": [],
   "source": [
    "def get_airport_info() -> dict:\n",
    "    \"\"\"This function builds a dictionary mapping airport names to the latitude and longitude of the airports, \n",
    "    based on file Airports.txt that has been provided to you.\"\"\"\n",
    "    airports = dict()\n",
    "    with open('Airports.txt', encoding='utf8') as file:\n",
    "        for line in file:\n",
    "            airport_name, coordinates = line.split('\\t')[1], line.split('\\t')[3].split(',')\n",
    "            long, lat = float(coordinates[0][1:]), float(coordinates[1][1:-2])\n",
    "            airports[airport_name] = (lat, long)\n",
    "    return airports"
   ]
  },
  {
   "cell_type": "code",
   "execution_count": null,
   "id": "190b9b50",
   "metadata": {},
   "outputs": [],
   "source": [
    "import requests\n",
    "import json\n",
    "\n",
    "def cloudy_airport(airport_name: str) -> bool | None:\n",
    "    pass  # replace this line with your code"
   ]
  },
  {
   "cell_type": "code",
   "execution_count": null,
   "id": "c025d58a",
   "metadata": {},
   "outputs": [],
   "source": [
    "# open test\n",
    "\n",
    "airports = [\"Los Angeles County Sheriff's Department Heliport\"]\n",
    "for airport in airports:\n",
    "    cloudy = cloudy_airport(airport)\n",
    "    if cloudy is None:\n",
    "        print(f\"No info available for {airport}.\")\n",
    "    elif cloudy:\n",
    "        print(f\"{airport} is cloudy.\")\n",
    "    else:\n",
    "        print(f\"{airport} is not cloudy.\")"
   ]
  },
  {
   "cell_type": "markdown",
   "id": "0b945231",
   "metadata": {},
   "source": [
    "# Bonus [5 points]\n",
    "\n",
    "### Webscraping: Newspaper\n",
    "\n",
    "For this question, we will scrape the website \"https://www.dailynews.com\".  \n",
    "\n",
    "For a given keyword, e.g. _COVID_, return all news headlines (and their links) on the website above that contain the keyword in the headline. Specifically, return a list of tuples where the first component is the link to the article and where the second component is the headline text.\n",
    "\n",
    "* Searches for the keyword in a headlines should be case-insensitive, e.g. when searching for _marathon_, you should return headlines containing _Marathon_ (capitalized).\n",
    "* Call ```strip()``` over the link and the headline text, so that it is more readable.  \n",
    "* Consider using BeautifulSoup and its .prettify() feature, which might better guide your web-scraping."
   ]
  },
  {
   "cell_type": "code",
   "execution_count": null,
   "id": "d9d7f85e",
   "metadata": {},
   "outputs": [],
   "source": [
    "from bs4 import BeautifulSoup\n",
    "import requests\n",
    "from typing import List, Tuple\n",
    "\n",
    "def get_news_of(keyword: str) -> List[Tuple[str, str]]:\n",
    "    pass  # Replace this line by your code"
   ]
  },
  {
   "cell_type": "code",
   "execution_count": null,
   "id": "7b8df0f8",
   "metadata": {},
   "outputs": [],
   "source": [
    "# open test\n",
    "print(get_news_of('California'))\n",
    "print(get_news_of('Gaza'))"
   ]
  }
 ],
 "metadata": {
  "kernelspec": {
   "display_name": "Python 3 (ipykernel)",
   "language": "python",
   "name": "python3"
  },
  "language_info": {
   "codemirror_mode": {
    "name": "ipython",
    "version": 3
   },
   "file_extension": ".py",
   "mimetype": "text/x-python",
   "name": "python",
   "nbconvert_exporter": "python",
   "pygments_lexer": "ipython3",
   "version": "3.11.5"
  }
 },
 "nbformat": 4,
 "nbformat_minor": 5
}
